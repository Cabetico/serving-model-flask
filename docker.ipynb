{
 "cells": [
  {
   "cell_type": "markdown",
   "metadata": {},
   "source": [
    "### Deploying Machine Learning Models, Part 4: creating a Docker image\n",
    "\n",
    "In this series, we cover model deployment: the process of putting models to use. In particular, we’ll see how to package a model inside a web service, allowing other services to use it. We also show how to deploy the web service to a production-ready environment.\n",
    "\n",
    "We have learned how to manage Python dependencies with Pipenv. Some of the dependencies live outside of Python. Most importantly, these dependencies include the operating system (OS) as well as the system libraries.\n",
    "\n",
    "For example, we might use Ubuntu 16.04 for developing our service, but if some of our colleagues use Ubuntu 20.04, they may run into troubles when trying to execute the service on their laptop\n",
    "\n",
    "Docker solves this “but it works on my machine” problem by also packaging the OS and the system libraries into a Docker container — a self-contained environment that works anywhere where Docker is installed (figure 1)."
   ]
  },
  {
   "cell_type": "markdown",
   "metadata": {},
   "source": [
    "![figure_1](images/figure_4.png)\n",
    "\n",
    "Figure 1. In case of no isolation (a), the service runs with system Python. In virtual environments (b), we isolate the dependencies of our service inside the environment. In Docker containers ©, we isolate the entire environment of the service, including the OS and system libraries."
   ]
  },
  {
   "cell_type": "markdown",
   "metadata": {},
   "source": [
    "Once the service is packaged into a Docker container, we can run it on the *host machine* — our laptop (regardless of the OS) or any public cloud provider.\n",
    "\n",
    "Let’s see how to use it for our project. For the purposes of this article, it is assumed that you already have Docker installed.\n",
    "\n",
    "First, we need to create a *Docker image* — the description of our service that includes all the settings and dependencies. Docker uses the image to create a container. To do it, we need a Dockerfile — a file with instructions on how the image should be created (figure 2)."
   ]
  },
  {
   "cell_type": "markdown",
   "metadata": {},
   "source": [
    "Let’s create a file with name `Dockerfile` and the following content: (note that the file shouldn’t include comments like #A, #B)"
   ]
  },
  {
   "cell_type": "markdown",
   "metadata": {},
   "source": [
    "```\n",
    "FROM python:3.7.5-slim #A\n",
    "  \n",
    " ENV PYTHONUNBUFFERED=TRUE #B\n",
    "  \n",
    " RUN pip --no-cache-dir install pipenv #C\n",
    "  \n",
    " WORKDIR /app #D\n",
    "  \n",
    " COPY [\"Pipfile\", \"Pipfile.lock\", \"./\"] #E\n",
    "  \n",
    " RUN pipenv install --deploy --system && \\ #F\n",
    "     rm -rf /root/.cache #F\n",
    "  \n",
    " COPY [\"*.py\", \"churn-model.bin\", \"./\"] #G\n",
    "  \n",
    " EXPOSE 9696 #H\n",
    "  \n",
    " ENTRYPOINT [\"gunicorn\", \"--bind\", \"0.0.0.0:9696\", \"churn_serving:app\"] #I\n",
    " ```"
   ]
  },
  {
   "cell_type": "markdown",
   "metadata": {},
   "source": [
    "#A Specify the base image\n",
    "\n",
    "#B Set a special Python settings for being able to see logs\n",
    "\n",
    "#C Install Pipenv\n",
    "\n",
    "#D Set the working directory to /app\n",
    "\n",
    "#E Copy the Pipenv files\n",
    "\n",
    "#F Install the dependencies from the Pipenv files\n",
    "\n",
    "#G Copy our code as well as the model\n",
    "\n",
    "#H Open the port that our web service uses\n",
    "\n",
    "#I Specify how the service should be started\n",
    "\n",
    "This is a lot of information to unpack, like if you have never seen Dockerfiles previously.\n",
    "\n",
    "Let’s go line-by-line.\n",
    "\n",
    "First, in A, we specify the base Docker image:\n",
    "\n",
    "`FROM python:3.7.5-slim #A`"
   ]
  },
  {
   "cell_type": "markdown",
   "metadata": {},
   "source": [
    "This is the image we use as the starting point and build our own image on top of that. Typically, the base image already contains the OS and the system libraries like Python itself, and we only need to install the dependencies of our project. In our case, we use `python:3.7.5-slim`, which is based on Debian 10.2 and contains Python 3.7.5 and pip. You can read more about the Python base image in Docker hub — the service for sharing Docker images.\n",
    "\n",
    "All Dockerfiles should start with the FROM statement.\n",
    "\n",
    "In B, we set the `PYTHONUNBUFFERED` environmental variable to TRUE:\n",
    "\n",
    "```\n",
    " ENV PYTHONUNBUFFERED=TRUE #B\n",
    "```"
   ]
  },
  {
   "cell_type": "markdown",
   "metadata": {},
   "source": [
    "Without this setting, we won’t be able to see the logs when running Python scripts inside Docker.\n",
    "\n",
    "In C, we use pip to install Pipenv:\n",
    "\n",
    "```\n",
    "    RUN pip --no-cache-dir install pipenv #C\n",
    "```"
   ]
  },
  {
   "cell_type": "markdown",
   "metadata": {},
   "source": [
    "The `RUN` instruction in Docker runs a shell command. By default, pip saves the libraries to a cache, and later they can be installed faster. We don’t need that in a Docker container; we use the `--no-cache-dir` setting.\n",
    "\n",
    "In D, we specify the working directory:"
   ]
  },
  {
   "cell_type": "markdown",
   "metadata": {},
   "source": [
    "```\n",
    "    WORKDIR /app #D\n",
    "```"
   ]
  },
  {
   "cell_type": "markdown",
   "metadata": {},
   "source": [
    "This is roughly equivalent to the `cd` command in Linux (change directory), and everything we run after this is executed in the `/app` folder.\n",
    "\n",
    "In E, we copy the Pipenv files to the current working directory (i.e. `/app`):\n",
    "\n",
    "```\n",
    "    COPY [\"Pipfile\", \"Pipfile.lock\", \"./\"] #E\n",
    "```\n",
    "\n",
    "We use these files in D for installing the dependencies with Pipenv:\n",
    "\n",
    "```\n",
    "RUN pipenv install --deploy --system && \\ #F\n",
    "     rm -rf /root/.cache #F\n",
    "```\n",
    "\n",
    "Previously we used “`pipenv install`” for doing it. Here we include two extra parameters: `--deploy` and `--system`. Inside Docker, we don’t need to create a virtual environment — our Docker container is already isolated from the rest of the system. Setting these parameters allows us to skip creating a virtual environment and use the system Python for installing all the dependencies.\n",
    "\n",
    "After installing the libraries, we clean the cache to make sure our Docker image doesn’t grow too big.\n",
    "\n",
    "In G, we copy our project files as well as the pickled model:\n"
   ]
  },
  {
   "cell_type": "markdown",
   "metadata": {},
   "source": [
    "```\n",
    "    COPY [\"*.py\", \"churn-model.bin\", \"./\"] #G\n",
    "```"
   ]
  },
  {
   "cell_type": "markdown",
   "metadata": {},
   "source": [
    "In H, we specify which port our application uses, In our case, it’s 9696:\n",
    "\n",
    "```\n",
    "    EXPOSE 9696 #H\n",
    "```\n",
    "\n",
    "Finally, in I, we tell Docker how our application should be started:\n",
    "\n",
    "```\n",
    "ENTRYPOINT [\"gunicorn\", \"--bind\", \"0.0.0.0:9696\", \"churn_serving:app\"] #I\n",
    "```\n",
    "\n",
    "This is the same command we used previously when running gunicorn locally.\n",
    "\n",
    "Let’s build the image. We do it by running the `build` command in Docker:"
   ]
  },
  {
   "cell_type": "markdown",
   "metadata": {},
   "source": [
    "```\n",
    "    docker build -t churn-prediction .\n",
    "```"
   ]
  },
  {
   "cell_type": "markdown",
   "metadata": {},
   "source": [
    "The “`-t`” flag lets us set the tag name for the image, and the final parameter — the dot — specifies the directory with the Dockerfile. In our case, it means that we use the current directory.\n",
    "\n",
    "When we run it, the first thing Docker does is download the base image:"
   ]
  },
  {
   "cell_type": "markdown",
   "metadata": {},
   "source": [
    "```\n",
    "Sending build context to Docker daemon  51.71kB\n",
    " Step 1/11 : FROM python:3.7.5-slim\n",
    " 3.7.5-slim: Pulling from library/python\n",
    " 000eee12ec04: Downloading  24.84MB/27.09MB\n",
    " ddc2d83f8229: Download complete\n",
    " 735b0bee82a3: Downloading  19.56MB/28.02MB\n",
    " 8c69dcedfc84: Download complete\n",
    " 495e1cccc7f9: Download complete\n",
    "```"
   ]
  },
  {
   "cell_type": "markdown",
   "metadata": {},
   "source": [
    "Then it executes each line of the Dockerfile one by one:"
   ]
  },
  {
   "cell_type": "markdown",
   "metadata": {},
   "source": [
    "```\n",
    "Step 2/9 : ENV PYTHONUNBUFFERED=TRUE\n",
    "  ---> Running in d263b412618b\n",
    " Removing intermediate container d263b412618b\n",
    "  ---> 7987e3cf611f\n",
    " Step 3/9 : RUN pip --no-cache-dir install pipenv\n",
    "  ---> Running in e8e9d329ed07\n",
    " Collecting pipenv\n",
    "  ...\n",
    "```"
   ]
  },
  {
   "cell_type": "markdown",
   "metadata": {},
   "source": [
    "At the end, Docker tells us that it successfully built an image and it tagged it as `churn-prediction:latest:`"
   ]
  },
  {
   "cell_type": "markdown",
   "metadata": {},
   "source": [
    "```\n",
    "    Successfully built d9c50e4619a1\n",
    " Successfully tagged churn-prediction:latest\n",
    "```"
   ]
  },
  {
   "cell_type": "markdown",
   "metadata": {},
   "source": [
    "We’re ready to use this image to start a Docker container. Use the `run` command for that:"
   ]
  },
  {
   "cell_type": "markdown",
   "metadata": {},
   "source": [
    "```\n",
    "    docker run -it -p 9696:9696 churn-prediction:latest\n",
    "```"
   ]
  },
  {
   "cell_type": "markdown",
   "metadata": {},
   "source": [
    "A few parameters that we specify here are:\n",
    "\n",
    "The “-it” flag tells Docker that we run it from our terminal and we need to see the results\n",
    "The “-p” parameter specifies the port mapping. “9696:9696” means to map the port 9696 on the container to the port 9696 on the host machine.\n",
    "Finally, we need the image name and tag, which in our case is churn-prediction:latest\n",
    "Now our service is running inside a Docker container and we can connect to it using port 9696 (figure 3). This is the same port we used for our application previously."
   ]
  },
  {
   "cell_type": "markdown",
   "metadata": {},
   "source": [
    "![figure_3](images/figure_5.png)"
   ]
  },
  {
   "cell_type": "markdown",
   "metadata": {},
   "source": [
    "Let’s test it using the same code. When we run it, we’ll see the same response:\n",
    "\n",
    "```\n",
    "    {'churn': False, 'churn_probability': 0.061875678218396776}\n",
    "```"
   ]
  },
  {
   "cell_type": "markdown",
   "metadata": {},
   "source": [
    "Docker makes it easy to run services in a reproducible way. With Docker, the environment inside the container always stays the same. This means that if we can run our service on a laptop, it works anywhere else.\n",
    "\n",
    "We already tested our application on our laptop; in part 5 we’ll see how to run it on a public cloud and deploy it to AWS.\n"
   ]
  }
 ],
 "metadata": {
  "kernelspec": {
   "display_name": "Python 3.7.11 ('QUASH')",
   "language": "python",
   "name": "python3"
  },
  "language_info": {
   "name": "python",
   "version": "3.7.11"
  },
  "orig_nbformat": 4,
  "vscode": {
   "interpreter": {
    "hash": "149ccbc6aa56386d779ca1ee4b2ffc1c6fd1d724658d04e9dde3899f98a22b7c"
   }
  }
 },
 "nbformat": 4,
 "nbformat_minor": 2
}
