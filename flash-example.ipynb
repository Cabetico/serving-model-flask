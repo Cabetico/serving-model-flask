{
 "cells": [
  {
   "cell_type": "markdown",
   "metadata": {},
   "source": [
    "We already know how to load a trained model in a different process. Now we need to serve this model — make it available for others to use.\n",
    "\n",
    "In practice, it usually means that a model is deployed as a web service, and other services can communicate with it, ask for predictions and use the results to make their own decisions.\n",
    "\n",
    "In this article, we’ll see how to do it in Python with Flask — a Python framework for creating web services. First, we’ll take a look at why we need to use a web service for it."
   ]
  },
  {
   "cell_type": "markdown",
   "metadata": {},
   "source": [
    "### Web services\n",
    "We already know how to use a model to make a prediction, but this far, we hardcoded the features of a customer as a Python dictionary.\n",
    "\n",
    "Let’s try to imagine how our model is used in practice.\n",
    "\n",
    "Suppose we have a service for running marketing campaigns. For each customer, it needs to determine the probability of churn, and if it’s high enough, it sends a promotional email with discounts. This service needs to use our model to decide if it should send a mail or not.\n",
    "\n",
    "One possible way of achieving it’s to modify the code of the campaign service: load the model and score the customers right in the service. This is a good approach, but the campaign service needs to be in Python and we need to have full control over its code.\n",
    "\n",
    "Unfortunately, this isn’t always the case: it may be written in some other language, or a different team might be in charge of this project, which means we won’t have the control we need.\n",
    "\n",
    "The typical solution for this problem is putting a model inside a web service — a small service (a microservice) that takes care only of scoring customers.\n",
    "\n",
    "We need to create “churn service” — a service in Python that serves the churn model. Given the features of a customer, it responds with the probability of churn for this customer. For each customer, the campaign service asks the churn service for the probability of churn, and if it’s high enough, then we send a promotional email"
   ]
  },
  {
   "cell_type": "markdown",
   "metadata": {},
   "source": [
    "![figure_1](images/figure_1.png)\n",
    "\n",
    "\n",
    "The churn service takes care of serving the churn prediction model, making it possible for other services to use it"
   ]
  },
  {
   "cell_type": "markdown",
   "metadata": {},
   "source": [
    "This gives another advantage: separation of concerns. If the model is created by data scientists, then they can take the ownership of the service and maintain it, as the other team takes care of the campaign service.\n",
    "\n",
    "One of the most popular frameworks for creating web services in Python’s Flask, which we’ll cover next."
   ]
  },
  {
   "cell_type": "markdown",
   "metadata": {},
   "source": [
    "### FLASK\n",
    "\n",
    "The easiest way to implement a web service in Python is to use Flask, It's quite lightweight, requires little code to get started and hides most of the complexity of dealing with HTTP requests and responses.\n",
    "\n",
    "Before we put our model inside a web service, let's cover the basics of using Flask, For that, we'll create a simple function and make it available as a web serivce — and after covering the basics, we’ll take care of the model. Suppose we've a simple Python function called `ping()`"
   ]
  },
  {
   "cell_type": "markdown",
   "metadata": {},
   "source": [
    "```\n",
    "    def ping():\n",
    "        return 'PONG'\n",
    "```"
   ]
  },
  {
   "cell_type": "markdown",
   "metadata": {},
   "source": [
    "It doesn’t do much: when invoked, it responds with “PONG”. Let’s use Flask to turn this function into a web service.\n",
    "\n",
    "Anaconda comes with Flask pre-installed, but if you use a different Python distribution, you’ll need to install it:"
   ]
  },
  {
   "cell_type": "markdown",
   "metadata": {},
   "source": [
    "```\n",
    "    pip install flask\n",
    "```"
   ]
  },
  {
   "cell_type": "markdown",
   "metadata": {},
   "source": [
    "We put this code in a Python file and call it `flask_test.py`.\n",
    "\n",
    "To be able to use Flask, we first need to import it:"
   ]
  },
  {
   "cell_type": "markdown",
   "metadata": {},
   "source": [
    "```\n",
    "    from flask import Flask\n",
    "```"
   ]
  },
  {
   "cell_type": "markdown",
   "metadata": {},
   "source": [
    "Now we create a Flask app — the central object for registering functions that need to be exposed in the web service. We’ll call our app “test”:"
   ]
  },
  {
   "cell_type": "markdown",
   "metadata": {},
   "source": [
    "```\n",
    "    app = Flask('test')\n",
    "```\n"
   ]
  },
  {
   "cell_type": "markdown",
   "metadata": {},
   "source": [
    "Next, we need to specify how to reach the function by assigning it to an address, or a route in Flask terms. In our case, we want to use the “/ping” address:"
   ]
  },
  {
   "cell_type": "markdown",
   "metadata": {},
   "source": [
    "```\n",
    "@app.route('/ping', methods=['GET']) #A\n",
    " def ping():\n",
    "     return 'PONG'\n",
    "```"
   ]
  },
  {
   "cell_type": "markdown",
   "metadata": {},
   "source": [
    "#A Register the /ping route and assign it to the ping function"
   ]
  },
  {
   "cell_type": "markdown",
   "metadata": {},
   "source": [
    "This code uses decorators — an advanced Python feature that we don’t cover in this book. We don’t need to understand how it works in detail, it’s enough to know that by putting @ on top of the function definition, we assign the @ address of the web service to the `ping()` function.\n",
    "\n",
    "To run it, we only need one last bit:"
   ]
  },
  {
   "cell_type": "markdown",
   "metadata": {},
   "source": [
    "```\n",
    "    if __name__ == '__main__':\n",
    "     app.run(debug=True, host='0.0.0.0', port=9696)\n",
    "```"
   ]
  },
  {
   "cell_type": "markdown",
   "metadata": {},
   "source": [
    "The `run()` method of `app` starts the service. We specify three parameters:\n",
    "\n",
    "`debug=True` — restarts our application automatically when there are changes in the code\n",
    "\n",
    "`host='0.0.0.0'` — makes the web service public, otherwise it isn’t possible to reach it when it’s hosted on a remote machine (e.g. in AWS)\n",
    "\n",
    "`port=9696` — the port that we use to access the application"
   ]
  },
  {
   "cell_type": "markdown",
   "metadata": {},
   "source": [
    "We’re ready to start our service now. Let’s do it:\n",
    "\n",
    "`>python flask_test.py`"
   ]
  },
  {
   "cell_type": "markdown",
   "metadata": {},
   "source": [
    "When we run it, we should see the following:\n",
    "\n",
    "```\n",
    " Serving Flask app \"test\" (lazy loading)\n",
    "  * Environment: production\n",
    "    WARNING: This is a development server. Do not use it in a production deployment.\n",
    "    Use a production WSGI server instead.\n",
    "  * Debug mode: on\n",
    "  * Running on http://0.0.0.0:9696/ (Press CTRL+C to quit)\n",
    "  * Restarting with stat\n",
    "  * Debugger is active!\n",
    "  * Debugger PIN: 162-129-136\n",
    "```"
   ]
  },
  {
   "cell_type": "markdown",
   "metadata": {},
   "source": [
    "This means that our Flask app is now running and ready to get requests. To test it, we can use our browser: open it and put “localhost:9696/ping” in the address bar. If you run it on a remote server, you should replace “localhost” with the address of the server. The browser should respond with “PONG”"
   ]
  },
  {
   "cell_type": "markdown",
   "metadata": {},
   "source": [
    "![figure 2](images/figure_2.png)"
   ]
  },
  {
   "cell_type": "markdown",
   "metadata": {},
   "source": [
    "Figure 2. The easiest way to check if our application works is to use a web browser\n",
    "\n",
    "Flask logs all the requests it receives, and we should see a line indicating that there was a GET request on the app route:\n",
    "\n",
    "\n",
    "\n",
    "`127.0.0.1 - - [02/Apr/2020 21:59:09] \"GET /ping HTTP/1.1\" 200 –`\n"
   ]
  },
  {
   "cell_type": "markdown",
   "metadata": {},
   "source": [
    "As we see, Flask is quite simple: with less than ten lines of code, we created a web service.\n",
    "\n",
    "Next, we’ll see how to adjust our script for churn prediction and also turn it into a web service.\n",
    "\n",
    "## Serving churn model with Flask\n",
    "We’ve learned a bit of Flask, and now we can come back to our script and convert it to a Flask application.\n",
    "\n",
    "To score a customer, our model needs to get the features. It means that we need a way of transferring some data from one service (the campaign service) to another (the churn service).\n",
    "\n",
    "As a data exchange format, web services typically use JSON (“Javascript Object Notation”). It’s similar to the way we define dictionaries in Python:"
   ]
  },
  {
   "cell_type": "markdown",
   "metadata": {},
   "source": [
    "```\n",
    "{\n",
    "     \"customerid\": \"8879-zkjof\",\n",
    "     \"gender\": \"female\",\n",
    "     \"seniorcitizen\": 0,\n",
    "     \"partner\": \"no\",\n",
    "     \"dependents\": \"no\",\n",
    "     ...\n",
    " }\n",
    " ```"
   ]
  },
  {
   "cell_type": "markdown",
   "metadata": {},
   "source": [
    "To send data, we use POST requests, not GET. POST requests can include the data in the request, but GET can’t.\n",
    "\n",
    "To make it possible for the campaign service to get predictions from the churn service, we need to create a .*? route that accepts POST requests. The churn service parses JSON data about a customer and respond in JSON as well"
   ]
  },
  {
   "cell_type": "markdown",
   "metadata": {},
   "source": [
    "![figure_3](images/figure_3.png)\n",
    "\n",
    "\n",
    "Figure 3. To get predictions, we POST the data about a customer in JSON to the app route, and get the probability of churn in response"
   ]
  },
  {
   "cell_type": "markdown",
   "metadata": {},
   "source": [
    "Now we know what we want to do; let’s start modifying the `flask_test` file.\n",
    "\n",
    "First, we add a few more imports at the top of the file:"
   ]
  },
  {
   "cell_type": "markdown",
   "metadata": {},
   "source": [
    "`from flask import Flask, request, jsonify`"
   ]
  },
  {
   "cell_type": "markdown",
   "metadata": {},
   "source": [
    "Although previously we imported only `Flask`, now we need to import two more things:\n",
    "\n",
    "\n",
    "`request` — to get the content of a POST request\n",
    "\n",
    "`jsonify` — to respond with JSON"
   ]
  },
  {
   "cell_type": "markdown",
   "metadata": {},
   "source": [
    "Next, create the Flask app. Let’s call it “churn”:\n",
    "\n",
    "```\n",
    "    app = Flask('churn')\n",
    "```"
   ]
  },
  {
   "cell_type": "markdown",
   "metadata": {},
   "source": [
    "Now we need to create a function that:\n",
    "\n",
    "gets the customer data in a request\n",
    "invokes app to score the customer\n",
    "responds with the probability of churn in JSON\n",
    "We’ll call this function `predict` and assign it to the `app` route:"
   ]
  },
  {
   "cell_type": "markdown",
   "metadata": {},
   "source": [
    "```\n",
    "@app.route('/predict', methods=['POST']) #A\n",
    " def predict():\n",
    "     customer = request.get_json() #B\n",
    "  \n",
    "     prediction = predict_single(customer, dv, model) #C\n",
    "     churn = prediction >= 0.5 #D\n",
    "    \n",
    "     result = { #D\n",
    "         'churn_probability': float(prediction), #D\n",
    "         'churn': bool(churn), #D\n",
    "     } #D\n",
    "  \n",
    "     return jsonify(result) #E\n",
    "```"
   ]
  },
  {
   "cell_type": "markdown",
   "metadata": {},
   "source": [
    "To assign the route to the function, we use the .*? decorator, where we also tell Flask to expect POST requests only.\n",
    "\n",
    "The core content of the `app.route()` function is similar to what we did in the script previously: it takes a customer, passes it to `predict()`, and does some work with the result.\n",
    "\n",
    "Finally, let’s add the last two lines for running the Flask app:"
   ]
  },
  {
   "cell_type": "markdown",
   "metadata": {},
   "source": [
    "```\n",
    "if __name__ == '__main__':\n",
    "     app.run(debug=True, host='0.0.0.0', port=9696)\n",
    "```"
   ]
  },
  {
   "cell_type": "markdown",
   "metadata": {},
   "source": [
    "We’re ready to run it:\n",
    "\n",
    "```\n",
    "    python churn_serving.py\n",
    "```"
   ]
  },
  {
   "cell_type": "markdown",
   "metadata": {},
   "source": [
    "After running it, we should see a message saying that the app started and now waits for incoming requests:\n",
    "```\n",
    "* Serving Flask app \"churn\" (lazy loading)\n",
    "  * Environment: production\n",
    "    WARNING: This is a development server. Do not use it in a production deployment.\n",
    "    Use a production WSGI server instead.\n",
    "  * Debug mode: on\n",
    "  * Running on http://0.0.0.0:9696/ (Press CTRL+C to quit)\n",
    "  * Restarting with stat\n",
    "  * Debugger is active!\n",
    "```"
   ]
  },
  {
   "cell_type": "markdown",
   "metadata": {},
   "source": [
    "Testing this code is a bit more difficult than previously: this time, we need to use POST requests and include the customer we want to score in the body of the request.\n",
    "\n",
    "The simplest way of doing it’s to use the requests library in Python. It also comes pre-installed in Anaconda, but if you use a different distribution, you can install it with pip:"
   ]
  },
  {
   "cell_type": "markdown",
   "metadata": {},
   "source": [
    "```\n",
    "    pip install requests\n",
    "```"
   ]
  },
  {
   "cell_type": "markdown",
   "metadata": {},
   "source": [
    "We can open the same Jupyter notebook that we used previously, and test the web service from there.\n",
    "\n",
    "First, import requests:\n",
    "\n",
    "```\n",
    "    import requests\n",
    "```"
   ]
  },
  {
   "cell_type": "markdown",
   "metadata": {},
   "source": [
    "Now, make a POST request to our service"
   ]
  },
  {
   "cell_type": "markdown",
   "metadata": {},
   "source": [
    "```\n",
    "url = 'http://localhost:9696/predict' #A\n",
    " response = requests.post(url, json=customer) #B\n",
    " result = response.json() #C\n",
    "```\n"
   ]
  },
  {
   "cell_type": "markdown",
   "metadata": {},
   "source": [
    "The results variable contains the response from the churn service:\n",
    "\n",
    "```\n",
    "    {'churn': False, 'churn_probability': 0.061875678218396776}\n",
    "```"
   ]
  },
  {
   "cell_type": "markdown",
   "metadata": {},
   "source": [
    "This is the same information we previously saw in the terminal, but now we got it as a response from a web service."
   ]
  },
  {
   "cell_type": "markdown",
   "metadata": {},
   "source": [
    "If the campaign service used Python, this is exactly how it could communicate with the churn service and decide who should get promotional emails.\n",
    "\n",
    "With a few lines of code, we created a working web service that runs on our laptop."
   ]
  }
 ],
 "metadata": {
  "kernelspec": {
   "display_name": "Python 3.9.7 ('base')",
   "language": "python",
   "name": "python3"
  },
  "language_info": {
   "codemirror_mode": {
    "name": "ipython",
    "version": 3
   },
   "file_extension": ".py",
   "mimetype": "text/x-python",
   "name": "python",
   "nbconvert_exporter": "python",
   "pygments_lexer": "ipython3",
   "version": "3.9.7"
  },
  "orig_nbformat": 4,
  "vscode": {
   "interpreter": {
    "hash": "1d3566b98539942dfe42f243b655841af5c597145eebc5638a47e844e4435e63"
   }
  }
 },
 "nbformat": 4,
 "nbformat_minor": 2
}
