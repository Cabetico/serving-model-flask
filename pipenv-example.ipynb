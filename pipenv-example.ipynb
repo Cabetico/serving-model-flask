{
 "cells": [
  {
   "cell_type": "markdown",
   "metadata": {},
   "source": [
    "### Deploying Machine Learning Models, managing dependecies"
   ]
  },
  {
   "cell_type": "markdown",
   "metadata": {},
   "source": [
    "In this series, we cover model deployment: the process of putting models to use. In particular, we’ll see how to package a model inside a web service, allowing other services to use it. We also show how to deploy the web service to a production-ready environment."
   ]
  },
  {
   "cell_type": "markdown",
   "metadata": {},
   "source": [
    "For local development, Anaconda is a perfect tool: it has almost all the libraries we may ever need. This has also a downside: it takes 4 GB when unpacked, which is too large. For production, we prefer to have only the libraries we need.\n",
    "\n",
    "Additionally, different services have different requirements. Often, these requirements conflict with each other, and we can’t use the same environment for running multiple services at the same time.\n",
    "\n",
    "In this article, we’ll see how to manage dependencies of our application in an isolated way that doesn’t interfere with other services. We’ll cover two tools for this: Pipenv, for managing Python libraries and Docker, for managing the system dependencies such as the operating system and the system libraries."
   ]
  },
  {
   "cell_type": "markdown",
   "metadata": {},
   "source": [
    "## Pipenv"
   ]
  },
  {
   "cell_type": "markdown",
   "metadata": {},
   "source": [
    "For serving our churn model, we only need a few libraries: NumPy, Scikit-Learn, and Flask. Instead of bringing in the entire Anaconda distribution with all its libraries, we can get a fresh Python installation and install only the libraries we need with pip:"
   ]
  },
  {
   "cell_type": "markdown",
   "metadata": {},
   "source": [
    "```\n",
    "    pip install numpy scikit-learn flask\n",
    "```"
   ]
  },
  {
   "cell_type": "markdown",
   "metadata": {},
   "source": [
    "Before we do that, let’s think for a moment what happens when we use pip to install a library:\n",
    "\n",
    "\n",
    "We run `pip install library` to install a Python package called “Library” (let’s suppose it exists).\n",
    "\n",
    "Pip goes to PyPI.org (the Python package index — a repository with python packages), gets and installs the latest version of this library: let’s say it’s 1.0.0.\n",
    "\n",
    "After installing it, we develop and test our service using this particular version. Everything works great. Later, our colleagues want to help us with the project, and they run `pip install` to set up everything on their machine — except this time, the latest version turns out to be 1.3.1.\n",
    "\n",
    "If we’re unlucky, 1.0.0 and 1.3.1 might be not compatible with each other, meaning that the code we wrote for 1.0.0 won’t work for 1.3.1.\n",
    "\n",
    "It’s possible to solve this problem by specifying the exact version of the library when installing it with pip:"
   ]
  },
  {
   "cell_type": "markdown",
   "metadata": {},
   "source": [
    "`pip install library==1.0.0`"
   ]
  },
  {
   "cell_type": "markdown",
   "metadata": {},
   "source": [
    "Unfortunately, a different problem may appear: what if some of our colleagues already have 1.3.1 installed and they already used it for some other services? In this case, they can’t go back to using 1.0.0: it may mean that their code may stop working.\n",
    "\n",
    "We can solve these problems by creating a virtual environment for each project: a separate Python distribution with nothing else, but libraries required for this particular project.\n",
    "\n",
    "Pipenv is a tool that makes managing virtual environments easier. We can install it with pip:"
   ]
  },
  {
   "cell_type": "markdown",
   "metadata": {},
   "source": [
    "```\n",
    "    pip install pipenv\n",
    "```"
   ]
  },
  {
   "cell_type": "markdown",
   "metadata": {},
   "source": [
    "After that, we use Pipenv instead of pip for installing dependencies:"
   ]
  },
  {
   "cell_type": "markdown",
   "metadata": {},
   "source": [
    "```\n",
    "    pipenv install numpy pandas sklearn\n",
    "```"
   ]
  },
  {
   "cell_type": "markdown",
   "metadata": {},
   "source": [
    "When running it, we’ll see that first, it configures the virtual environment, and then it installs the libraries:"
   ]
  },
  {
   "cell_type": "markdown",
   "metadata": {},
   "source": [
    "```\n",
    "Running virtualenv with interpreter .../bin/python3\n",
    "Successfully created virtual environment!\n",
    " Virtualenv location: ...\n",
    " Creating a Pipfile for this project…\n",
    " Installing numpy…\n",
    " Adding numpy to Pipfile's [packages]…\n",
    "Installation Succeeded\n",
    " Installing scikit-learn…\n",
    " Adding scikit-learn to Pipfile's [packages]…\n",
    "Installation Succeeded\n",
    " Installing flask…\n",
    " Adding flask to Pipfile's [packages]…\n",
    "Installation Succeeded\n",
    " Pipfile.lock not found, creating…\n",
    " Locking [dev-packages] dependencies…\n",
    " Locking [packages] dependencies…\n",
    " ⠙ Locking...\n",
    "```"
   ]
  },
  {
   "cell_type": "markdown",
   "metadata": {},
   "source": [
    "After finishing the installation, it creates two files: `Pipenv` and `Pipenv.lock`.\n",
    "\n",
    "The `Pipenv` file looks pretty simple:"
   ]
  },
  {
   "cell_type": "markdown",
   "metadata": {},
   "source": [
    "```\n",
    "[[source]]\n",
    " name = \"pypi\"\n",
    " url = \"https://pypi.org/simple\"\n",
    " verify_ssl = true\n",
    "  \n",
    " [dev-packages]\n",
    "  \n",
    " [packages]\n",
    " numpy = \"*\"\n",
    " scikit-learn = \"*\"\n",
    " flask = \"*\"\n",
    "  \n",
    " [requires]\n",
    " python_version = \"3.7\"\n",
    " ```"
   ]
  },
  {
   "cell_type": "markdown",
   "metadata": {},
   "source": [
    "We see that this file contains a list of libraries as well as the version of Python we use.\n",
    "\n",
    "The other file — `Pipenv.lock` — contains the specific versions of the libraries that we used for the project. The file is quite large to show here, but let’s take a look at one of the entries in the file:"
   ]
  },
  {
   "cell_type": "markdown",
   "metadata": {},
   "source": [
    "```\n",
    "\"flask\": {\n",
    "     \"hashes\": [\n",
    "         \"sha256:4efa1ae2d7c9865af48986de8aeb8504...\",\n",
    "         \"sha256:8a4fdd8936eba2512e9c85df320a37e6...\"\n",
    "     ],\n",
    "     \"index\": \"pypi\",\n",
    "     \"version\": \"==1.1.2\"\n",
    " }\n",
    " ```"
   ]
  },
  {
   "cell_type": "markdown",
   "metadata": {},
   "source": [
    "As we see, it records the exact version of the library that was used during installation. To make sure the library doesn’t change, it also saves the hashes — the checksums that can be used to validate that in the future we download the exact same version of the library. This way, we “lock” the dependencies to specific versions. By doing it, we make sure that in the future we don’t have surprises with two incompatible versions of the same library.\n",
    "\n",
    "If somebody needs to work on our project, they need to run the `install` command:"
   ]
  },
  {
   "cell_type": "markdown",
   "metadata": {},
   "source": [
    "```\n",
    "pipenv install\n",
    "```"
   ]
  },
  {
   "cell_type": "markdown",
   "metadata": {},
   "source": [
    "This creates a virtual environment and then installs all the required libraries from `Pipenv.lock`."
   ]
  },
  {
   "cell_type": "markdown",
   "metadata": {},
   "source": [
    "IMPORTANT: Locking the version of a library is important for reproducibility in the future and helps us avoid having unpleasant surprises with code incompatibility.\n",
    "\n",
    "After all the libraries are installed, we need to activate the virtual environment — this way, our application uses the correct versions of the libraries. We do it by running the `shell` command:"
   ]
  },
  {
   "cell_type": "markdown",
   "metadata": {},
   "source": [
    "`pipenv shell`\n",
    "\n",
    "It tells us that it’s running in a virtual environment:\n",
    "\n",
    "`Launching subshell in virtual environment…`\n",
    "\n",
    "Now we can run our script for serving:\n",
    "\n",
    "`python churn_serving.py`\n",
    "\n",
    "Alternatively, instead of first explicitly entering the virtual environment and then running the script, we can do these two steps with one command:\n",
    "\n",
    "`pipenv run python churn_serving.py`\n",
    "\n",
    "The `run` command in Pipenv runs the specified program in the virtual environment.\n",
    "\n",
    "Regardless of the way we run it, we should see exactly the same output as previously:"
   ]
  },
  {
   "cell_type": "markdown",
   "metadata": {},
   "source": [
    "```\n",
    "* Serving Flask app \"churn\" (lazy loading)\n",
    "  * Environment: production\n",
    "    WARNING: This is a development server. Do not use it in a production deployment.\n",
    "    Use a production WSGI server instead.\n",
    "  * Debug mode: on\n",
    "  * Running on http://0.0.0.0:9696/ (Press CTRL+C to quit)\n",
    "```"
   ]
  },
  {
   "cell_type": "markdown",
   "metadata": {},
   "source": [
    "When we test it with requests, we see the same output:"
   ]
  },
  {
   "cell_type": "markdown",
   "metadata": {},
   "source": [
    "```\n",
    "    {'churn': False, 'churn_probability': 0.061875678218396776}\n",
    "```"
   ]
  },
  {
   "cell_type": "markdown",
   "metadata": {},
   "source": [
    "You most likely also noticed the following warning in the console:"
   ]
  },
  {
   "cell_type": "markdown",
   "metadata": {},
   "source": [
    "```\n",
    "    * Environment: production\n",
    "    WARNING: This is a development server. Do not use it in a production deployment.\n",
    "    Use a production WSGI server instead.\n",
    "```"
   ]
  },
  {
   "cell_type": "markdown",
   "metadata": {},
   "source": [
    "The built-in Flask web-server is indeed for development only: it’s easy to use for testing our application, but it won’t be able to work reliably under load. We should use a proper WSGI server instead, as the warning suggests.\n",
    "\n",
    "WSGI stands for “Web Server Gateway Interface”, which is a specification describing how Python applications should handle HTTP requests. The details of WSGI aren’t important for the purposes of this article, and we won’t cover it in detail.\n",
    "\n",
    "We do address the warning by installing a “production WSGI server”. Multiple possible options can be found in Python. We use gunicorn.\n",
    "\n",
    "Let’s install it with Pipenv:"
   ]
  },
  {
   "cell_type": "markdown",
   "metadata": {},
   "source": [
    "```\n",
    "    pipenv install gunicorn\n",
    "```"
   ]
  },
  {
   "cell_type": "markdown",
   "metadata": {},
   "source": [
    "This command installs the library and includes it as a dependency in the project by adding it to Pipenv and Pipenv.lock files.\n",
    "\n",
    "Let’s run our application with gunicorn:"
   ]
  },
  {
   "cell_type": "markdown",
   "metadata": {},
   "source": [
    "```\n",
    "    pipenv run gunicorn --bind 0.0.0.0:9696 churn_serving:app\n",
    "```"
   ]
  },
  {
   "cell_type": "markdown",
   "metadata": {},
   "source": [
    "If everything goes well, we should see the following messages in the terminal:"
   ]
  },
  {
   "cell_type": "markdown",
   "metadata": {},
   "source": [
    "```\n",
    "[2020-04-13 22:58:44 +0200] [15705] [INFO] Starting gunicorn 20.0.4\n",
    " [2020-04-13 22:58:44 +0200] [15705] [INFO] Listening at: http://0.0.0.0:9696 (15705)\n",
    " [2020-04-13 22:58:44 +0200] [15705] [INFO] Using worker: sync\n",
    " [2020-04-13 22:58:44 +0200] [16541] [INFO] Booting worker with pid: 16541\n",
    "```"
   ]
  },
  {
   "cell_type": "markdown",
   "metadata": {},
   "source": [
    "Unlike the Flask built-in web-server, gunicorn is ready for production, and it doesn’t have any problems under load when we start using it.\n",
    "\n",
    "If we test it with the same code as previously, we’ll see the same answer:"
   ]
  },
  {
   "cell_type": "markdown",
   "metadata": {},
   "source": [
    "```\n",
    "    {'churn': False, 'churn_probability': 0.061875678218396776}\n",
    "```"
   ]
  },
  {
   "cell_type": "markdown",
   "metadata": {},
   "source": [
    "Pipenv is a great tool for managing dependencies: it isolates the required libraries into a separate environment, helping us avoid conflicts between different versions of the same package.\n",
    "\n",
    "In the part 4, we’ll look at Docker, which allows us to isolate our application even further and ensure it runs smoothly anywhere."
   ]
  }
 ],
 "metadata": {
  "kernelspec": {
   "display_name": "Python 3.7.11 ('QUASH')",
   "language": "python",
   "name": "python3"
  },
  "language_info": {
   "codemirror_mode": {
    "name": "ipython",
    "version": 3
   },
   "file_extension": ".py",
   "mimetype": "text/x-python",
   "name": "python",
   "nbconvert_exporter": "python",
   "pygments_lexer": "ipython3",
   "version": "3.7.11"
  },
  "orig_nbformat": 4,
  "vscode": {
   "interpreter": {
    "hash": "149ccbc6aa56386d779ca1ee4b2ffc1c6fd1d724658d04e9dde3899f98a22b7c"
   }
  }
 },
 "nbformat": 4,
 "nbformat_minor": 2
}
